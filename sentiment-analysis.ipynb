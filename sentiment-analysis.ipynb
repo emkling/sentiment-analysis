{
 "cells": [
  {
   "cell_type": "code",
   "execution_count": 1,
   "id": "fab51831",
   "metadata": {},
   "outputs": [],
   "source": [
    "import pandas as pd\n",
    "import numpy as np\n",
    "import warnings\n",
    "warnings.filterwarnings('ignore')\n",
    "import gzip\n",
    "import matplotlib.pyplot as plt\n",
    "import tensorflow as tf\n",
    "from tensorflow.keras.preprocessing.sequence import pad_sequences\n",
    "from tensorflow.keras.datasets import imdb\n",
    "from tensorflow.keras.preprocessing.text import Tokenizer\n",
    "from keras import callbacks\n",
    "from nltk.corpus import stopwords"
   ]
  },
  {
   "cell_type": "code",
   "execution_count": 2,
   "id": "5ab43464",
   "metadata": {},
   "outputs": [],
   "source": [
    "def parse(path):\n",
    "  g = gzip.open(path, 'r')\n",
    "  for l in g:\n",
    "    yield eval(l)"
   ]
  },
  {
   "cell_type": "code",
   "execution_count": 3,
   "id": "27471d09",
   "metadata": {},
   "outputs": [],
   "source": [
    "def getDF(path):\n",
    "  i = 0\n",
    "  df = {}\n",
    "  for d in parse(path):\n",
    "    df[i] = d\n",
    "    i += 1\n",
    "  return pd.DataFrame.from_dict(df, orient='index')"
   ]
  },
  {
   "cell_type": "code",
   "execution_count": 4,
   "id": "769ebc5c",
   "metadata": {},
   "outputs": [],
   "source": [
    "df = getDF('reviews_Toys_and_Games_5.json.gz')\n",
    "df = df[['reviewText', 'overall']]\n",
    "df['Sentiments'] = df.overall.apply(lambda x: 0 if x in [1, 2] else 1)"
   ]
  },
  {
   "cell_type": "code",
   "execution_count": 5,
   "id": "595ccda2",
   "metadata": {},
   "outputs": [],
   "source": [
    "uchar = [\"*\",\"+\",\",\",\"-\",\".\",\"/\",\":\",\";\",\"<\",\"=\",\">\",\"?\",\"@\",\"[\",\"\\\\\",\"]\",\"^\",\"_\",\"`\",\"{\",\"|\",\"}\",\"~\",\"–\",\"!\",'\"',\"#\",\"%\",\"&\",\"'\",\"(\",\")\"]\n",
    "df['reviewText'] = df['reviewText'].str.lower()\n",
    "for char in uchar:\n",
    " df['reviewText'] = df['reviewText'].str.replace(char, ' ',regex=True)"
   ]
  },
  {
   "cell_type": "code",
   "execution_count": 6,
   "id": "4cfac90a",
   "metadata": {},
   "outputs": [
    {
     "data": {
      "text/plain": [
       "reviewText    False\n",
       "overall       False\n",
       "Sentiments    False\n",
       "dtype: bool"
      ]
     },
     "execution_count": 6,
     "metadata": {},
     "output_type": "execute_result"
    }
   ],
   "source": [
    "df.isna().any()"
   ]
  },
  {
   "cell_type": "code",
   "execution_count": 7,
   "id": "e63c6924",
   "metadata": {
    "scrolled": true
   },
   "outputs": [
    {
     "data": {
      "text/html": [
       "<div>\n",
       "<style scoped>\n",
       "    .dataframe tbody tr th:only-of-type {\n",
       "        vertical-align: middle;\n",
       "    }\n",
       "\n",
       "    .dataframe tbody tr th {\n",
       "        vertical-align: top;\n",
       "    }\n",
       "\n",
       "    .dataframe thead th {\n",
       "        text-align: right;\n",
       "    }\n",
       "</style>\n",
       "<table border=\"1\" class=\"dataframe\">\n",
       "  <thead>\n",
       "    <tr style=\"text-align: right;\">\n",
       "      <th></th>\n",
       "      <th>reviewText</th>\n",
       "      <th>overall</th>\n",
       "      <th>Sentiments</th>\n",
       "    </tr>\n",
       "  </thead>\n",
       "  <tbody>\n",
       "    <tr>\n",
       "      <th>0</th>\n",
       "      <td>i like the item pricing  my granddaughter want...</td>\n",
       "      <td>5.0</td>\n",
       "      <td>1</td>\n",
       "    </tr>\n",
       "    <tr>\n",
       "      <th>1</th>\n",
       "      <td>love the magnet easel    great for moving to d...</td>\n",
       "      <td>4.0</td>\n",
       "      <td>1</td>\n",
       "    </tr>\n",
       "    <tr>\n",
       "      <th>2</th>\n",
       "      <td>both sides are magnetic   a real plus when you...</td>\n",
       "      <td>5.0</td>\n",
       "      <td>1</td>\n",
       "    </tr>\n",
       "    <tr>\n",
       "      <th>3</th>\n",
       "      <td>bought one a few years ago for my daughter and...</td>\n",
       "      <td>5.0</td>\n",
       "      <td>1</td>\n",
       "    </tr>\n",
       "    <tr>\n",
       "      <th>4</th>\n",
       "      <td>i have a stainless steel refrigerator therefor...</td>\n",
       "      <td>4.0</td>\n",
       "      <td>1</td>\n",
       "    </tr>\n",
       "  </tbody>\n",
       "</table>\n",
       "</div>"
      ],
      "text/plain": [
       "                                          reviewText  overall  Sentiments\n",
       "0  i like the item pricing  my granddaughter want...      5.0           1\n",
       "1  love the magnet easel    great for moving to d...      4.0           1\n",
       "2  both sides are magnetic   a real plus when you...      5.0           1\n",
       "3  bought one a few years ago for my daughter and...      5.0           1\n",
       "4  i have a stainless steel refrigerator therefor...      4.0           1"
      ]
     },
     "execution_count": 7,
     "metadata": {},
     "output_type": "execute_result"
    }
   ],
   "source": [
    "df.head()"
   ]
  },
  {
   "cell_type": "code",
   "execution_count": 8,
   "id": "c66b822a",
   "metadata": {},
   "outputs": [],
   "source": [
    "training_sentences = []\n",
    "training_labels = []\n",
    "testing_sentences = []\n",
    "testing_labels = []\n",
    "\n",
    "split = round(len(df)*0.8)\n",
    "train_reviews = df['reviewText'][:split]\n",
    "train_label = df['Sentiments'][:split]\n",
    "test_reviews = df['reviewText'][split:]\n",
    "test_label = df['Sentiments'][split:]\n",
    "\n",
    "for row in train_reviews:\n",
    "    training_sentences.append(str(row))\n",
    "for row in train_label:\n",
    "    training_labels.append(row)\n",
    "for row in test_reviews:\n",
    "    testing_sentences.append(str(row))\n",
    "for row in test_label:\n",
    "    testing_labels.append(row)"
   ]
  },
  {
   "cell_type": "code",
   "execution_count": 9,
   "id": "ac65ce7c",
   "metadata": {},
   "outputs": [],
   "source": [
    "review_length = []\n",
    "for length in training_sentences:\n",
    "    review_length.append(len(length.split(' ')))\n",
    "    \n",
    "    #if len(length.split(' ')) < 600:\n",
    "        #print(length)\n",
    "        #print(len(length.split(' ')))\n",
    "        #print(' ')\n"
   ]
  },
  {
   "cell_type": "code",
   "execution_count": 10,
   "id": "16d4f2be",
   "metadata": {},
   "outputs": [
    {
     "name": "stdout",
     "output_type": "stream",
     "text": [
      "6333\n",
      "623.0\n"
     ]
    }
   ],
   "source": [
    "print(np.max(review_length))\n",
    "print(np.percentile(review_length, 99))"
   ]
  },
  {
   "cell_type": "code",
   "execution_count": 11,
   "id": "77af8470",
   "metadata": {},
   "outputs": [],
   "source": [
    "df.to_csv('cleaned_data.csv', index = False)"
   ]
  },
  {
   "cell_type": "code",
   "execution_count": 12,
   "id": "574a598c",
   "metadata": {},
   "outputs": [
    {
     "name": "stdout",
     "output_type": "stream",
     "text": [
      "Vocab size:  81995\n"
     ]
    }
   ],
   "source": [
    "tokenizer = Tokenizer()\n",
    "tokenizer.fit_on_texts(df['reviewText'])\n",
    "print('Vocab size: ', len(tokenizer.word_index) + 1 ) "
   ]
  },
  {
   "cell_type": "code",
   "execution_count": 13,
   "id": "5278f12b",
   "metadata": {},
   "outputs": [],
   "source": [
    "vocab_size = 81995\n",
    "embedding_dim = 17\n",
    "max_length = 623\n",
    "trunc_type = 'post'\n",
    "padding_type = 'post'\n",
    "oov_tok = '<OOV>'"
   ]
  },
  {
   "cell_type": "code",
   "execution_count": 14,
   "id": "bf1f9f92",
   "metadata": {},
   "outputs": [],
   "source": [
    "tokenizer = Tokenizer(num_words=vocab_size, oov_token=oov_tok)\n",
    "tokenizer.fit_on_texts(training_sentences)\n",
    "word_index = tokenizer.word_index"
   ]
  },
  {
   "cell_type": "code",
   "execution_count": 16,
   "id": "b7731285",
   "metadata": {},
   "outputs": [
    {
     "name": "stdout",
     "output_type": "stream",
     "text": [
      "Final vocab count: 71438\n"
     ]
    }
   ],
   "source": [
    "print('Final vocab count: ' + str(len(word_index)))"
   ]
  },
  {
   "cell_type": "code",
   "execution_count": 17,
   "id": "86cbffbb",
   "metadata": {},
   "outputs": [],
   "source": [
    "sequences = tokenizer.texts_to_sequences(training_sentences)\n",
    "padded = pad_sequences(sequences, maxlen=max_length, truncating=trunc_type)\n",
    "testing_sentences = tokenizer.texts_to_sequences(testing_sentences)\n",
    "testing_padded = pad_sequences(testing_sentences, maxlen=max_length)"
   ]
  },
  {
   "cell_type": "code",
   "execution_count": 18,
   "id": "4de94b9b",
   "metadata": {},
   "outputs": [
    {
     "name": "stdout",
     "output_type": "stream",
     "text": [
      "i like the item pricing  my granddaughter wanted to mark on it but i wanted it just for the letters \n"
     ]
    }
   ],
   "source": [
    "print(training_sentences[0])"
   ]
  },
  {
   "cell_type": "code",
   "execution_count": 19,
   "id": "7f0396a7",
   "metadata": {},
   "outputs": [
    {
     "name": "stdout",
     "output_type": "stream",
     "text": [
      "Sentiments [1 0]\n"
     ]
    }
   ],
   "source": [
    "print('Sentiments', df.Sentiments.unique())\n"
   ]
  },
  {
   "cell_type": "code",
   "execution_count": 20,
   "id": "df94367d",
   "metadata": {},
   "outputs": [
    {
     "data": {
      "text/html": [
       "<div>\n",
       "<style scoped>\n",
       "    .dataframe tbody tr th:only-of-type {\n",
       "        vertical-align: middle;\n",
       "    }\n",
       "\n",
       "    .dataframe tbody tr th {\n",
       "        vertical-align: top;\n",
       "    }\n",
       "\n",
       "    .dataframe thead th {\n",
       "        text-align: right;\n",
       "    }\n",
       "</style>\n",
       "<table border=\"1\" class=\"dataframe\">\n",
       "  <thead>\n",
       "    <tr style=\"text-align: right;\">\n",
       "      <th></th>\n",
       "      <th>reviewText</th>\n",
       "      <th>overall</th>\n",
       "    </tr>\n",
       "    <tr>\n",
       "      <th>Sentiments</th>\n",
       "      <th></th>\n",
       "      <th></th>\n",
       "    </tr>\n",
       "  </thead>\n",
       "  <tbody>\n",
       "    <tr>\n",
       "      <th>0</th>\n",
       "      <td>11005</td>\n",
       "      <td>11005</td>\n",
       "    </tr>\n",
       "    <tr>\n",
       "      <th>1</th>\n",
       "      <td>156592</td>\n",
       "      <td>156592</td>\n",
       "    </tr>\n",
       "  </tbody>\n",
       "</table>\n",
       "</div>"
      ],
      "text/plain": [
       "            reviewText  overall\n",
       "Sentiments                     \n",
       "0                11005    11005\n",
       "1               156592   156592"
      ]
     },
     "execution_count": 20,
     "metadata": {},
     "output_type": "execute_result"
    }
   ],
   "source": [
    "df.groupby('Sentiments').count()\n"
   ]
  },
  {
   "cell_type": "code",
   "execution_count": 21,
   "id": "13dae046",
   "metadata": {},
   "outputs": [],
   "source": [
    "model = tf.keras.Sequential([\n",
    "    tf.keras.layers.Embedding(vocab_size, embedding_dim, input_length=max_length), tf.keras.layers.GlobalAveragePooling1D(), tf.keras.layers.Dense(10, activation='relu'),  tf.keras.layers.Dense(6, activation='relu'),  tf.keras.layers.Dense(1, activation='relu')])\n"
   ]
  },
  {
   "cell_type": "code",
   "execution_count": 22,
   "id": "f762d933",
   "metadata": {},
   "outputs": [],
   "source": [
    "model.compile(loss='binary_crossentropy', optimizer='adam', metrics=['accuracy'])"
   ]
  },
  {
   "cell_type": "code",
   "execution_count": 23,
   "id": "70d1e27d",
   "metadata": {
    "scrolled": true
   },
   "outputs": [
    {
     "name": "stdout",
     "output_type": "stream",
     "text": [
      "Model: \"sequential\"\n",
      "_________________________________________________________________\n",
      " Layer (type)                Output Shape              Param #   \n",
      "=================================================================\n",
      " embedding (Embedding)       (None, 623, 17)           1393915   \n",
      "                                                                 \n",
      " global_average_pooling1d (G  (None, 17)               0         \n",
      " lobalAveragePooling1D)                                          \n",
      "                                                                 \n",
      " dense (Dense)               (None, 10)                180       \n",
      "                                                                 \n",
      " dense_1 (Dense)             (None, 6)                 66        \n",
      "                                                                 \n",
      " dense_2 (Dense)             (None, 1)                 7         \n",
      "                                                                 \n",
      "=================================================================\n",
      "Total params: 1,394,168\n",
      "Trainable params: 1,394,168\n",
      "Non-trainable params: 0\n",
      "_________________________________________________________________\n"
     ]
    }
   ],
   "source": [
    "model.summary()"
   ]
  },
  {
   "cell_type": "code",
   "execution_count": 24,
   "id": "2bfdab39",
   "metadata": {},
   "outputs": [],
   "source": [
    "training_final = np.array(training_labels)\n",
    "testing_final = np.array(testing_labels)"
   ]
  },
  {
   "cell_type": "code",
   "execution_count": 25,
   "id": "a3daa26b",
   "metadata": {
    "scrolled": true
   },
   "outputs": [
    {
     "name": "stdout",
     "output_type": "stream",
     "text": [
      "Epoch 1/10\n",
      "4190/4190 [==============================] - 24s 5ms/step - loss: 0.4205 - accuracy: 0.8734 - val_loss: 0.1785 - val_accuracy: 0.9410\n",
      "Epoch 2/10\n",
      "4190/4190 [==============================] - 20s 5ms/step - loss: 0.1753 - accuracy: 0.9333 - val_loss: 0.1740 - val_accuracy: 0.9418\n",
      "Epoch 3/10\n",
      "4190/4190 [==============================] - 20s 5ms/step - loss: 0.1903 - accuracy: 0.9218 - val_loss: 0.1668 - val_accuracy: 0.9443\n",
      "Epoch 4/10\n",
      "4190/4190 [==============================] - 20s 5ms/step - loss: 0.1440 - accuracy: 0.9445 - val_loss: 0.1716 - val_accuracy: 0.9475\n",
      "Epoch 5/10\n",
      "4190/4190 [==============================] - 20s 5ms/step - loss: 0.1323 - accuracy: 0.9517 - val_loss: 0.1730 - val_accuracy: 0.9468\n",
      "Epoch 6/10\n",
      "4190/4190 [==============================] - 20s 5ms/step - loss: 0.1395 - accuracy: 0.9492 - val_loss: 0.1907 - val_accuracy: 0.9527\n",
      "Epoch 7/10\n",
      "4190/4190 [==============================] - 20s 5ms/step - loss: 0.1255 - accuracy: 0.9547 - val_loss: 0.2161 - val_accuracy: 0.9527\n",
      "Epoch 8/10\n",
      "4190/4190 [==============================] - 20s 5ms/step - loss: 0.1247 - accuracy: 0.9549 - val_loss: 0.2221 - val_accuracy: 0.9534\n",
      "Epoch 9/10\n",
      "4190/4190 [==============================] - 20s 5ms/step - loss: 0.1218 - accuracy: 0.9570 - val_loss: 0.2108 - val_accuracy: 0.9509\n",
      "Epoch 10/10\n",
      "4190/4190 [==============================] - 21s 5ms/step - loss: 0.1217 - accuracy: 0.9585 - val_loss: 0.2227 - val_accuracy: 0.9524\n"
     ]
    }
   ],
   "source": [
    "model1 = model.fit(padded, training_final, epochs=10, validation_data=(testing_padded, testing_final))"
   ]
  },
  {
   "cell_type": "code",
   "execution_count": 26,
   "id": "de616101",
   "metadata": {
    "scrolled": false
   },
   "outputs": [
    {
     "name": "stdout",
     "output_type": "stream",
     "text": [
      "Epoch 1/15\n",
      "4190/4190 [==============================] - 20s 5ms/step - loss: 0.1241 - accuracy: 0.9529 - val_loss: 0.2052 - val_accuracy: 0.9531\n",
      "Epoch 2/15\n",
      "4190/4190 [==============================] - 20s 5ms/step - loss: 0.1326 - accuracy: 0.9519 - val_loss: 0.2355 - val_accuracy: 0.9531\n",
      "Epoch 3/15\n",
      "4190/4190 [==============================] - 20s 5ms/step - loss: 0.1132 - accuracy: 0.9606 - val_loss: 0.2323 - val_accuracy: 0.9522\n",
      "Epoch 4/15\n",
      "4190/4190 [==============================] - 21s 5ms/step - loss: 0.1128 - accuracy: 0.9607 - val_loss: 0.2402 - val_accuracy: 0.9524\n"
     ]
    }
   ],
   "source": [
    "earlystopping = callbacks.EarlyStopping(monitor =\"val_loss\", mode =\"min\", patience = 3, restore_best_weights = True)\n",
    "\n",
    "model2 = model.fit(padded, training_final, epochs=15, validation_data=(testing_padded, testing_final), callbacks = [earlystopping])"
   ]
  },
  {
   "cell_type": "code",
   "execution_count": 27,
   "id": "368bb463",
   "metadata": {},
   "outputs": [
    {
     "data": {
      "image/png": "[encoded data removed]",
      "text/plain": [
       "<Figure size 432x288 with 1 Axes>"
      ]
     },
     "metadata": {
      "needs_background": "light"
     },
     "output_type": "display_data"
    }
   ],
   "source": [
    "plt.plot(model1.history['accuracy'], label='Accuracy')\n",
    "plt.title('accuracy vs epoch')\n",
    "plt.ylabel('accuracy value')\n",
    "plt.xlabel('No. epoch')\n",
    "plt.legend(loc=\"upper left\")\n",
    "plt.show()"
   ]
  },
  {
   "cell_type": "code",
   "execution_count": 28,
   "id": "aa2853a9",
   "metadata": {},
   "outputs": [
    {
     "data": {
      "image/png": "[encoded data removed]",
      "text/plain": [
       "<Figure size 432x288 with 1 Axes>"
      ]
     },
     "metadata": {
      "needs_background": "light"
     },
     "output_type": "display_data"
    }
   ],
   "source": [
    "plt.plot(model2.history['accuracy'], label='Accuracy')\n",
    "plt.title('accuracy vs epoch')\n",
    "plt.ylabel('accuracy value')\n",
    "plt.xlabel('No. epoch')\n",
    "plt.legend(loc=\"upper left\")\n",
    "plt.show()"
   ]
  },
  {
   "cell_type": "code",
   "execution_count": 29,
   "id": "da8777ec",
   "metadata": {},
   "outputs": [
    {
     "data": {
      "image/png": "[encoded data removed]",
      "text/plain": [
       "<Figure size 432x288 with 1 Axes>"
      ]
     },
     "metadata": {
      "needs_background": "light"
     },
     "output_type": "display_data"
    },
    {
     "data": {
      "image/png": "[encoded data removed]",
      "text/plain": [
       "<Figure size 432x288 with 1 Axes>"
      ]
     },
     "metadata": {
      "needs_background": "light"
     },
     "output_type": "display_data"
    },
    {
     "data": {
      "image/png": "[encoded data removed]",
      "text/plain": [
       "<Figure size 432x288 with 1 Axes>"
      ]
     },
     "metadata": {
      "needs_background": "light"
     },
     "output_type": "display_data"
    }
   ],
   "source": [
    "acc = model2.history['accuracy']\n",
    "val_acc = model2.history['val_accuracy']\n",
    "loss = model2.history['loss']\n",
    "val_loss = model2.history['val_loss']\n",
    "epochs=range(len(acc))\n",
    "plt.plot(epochs, acc, 'r', 'Training Accuracy')\n",
    "plt.plot(epochs, val_acc, 'b', 'Validation Accuracy')\n",
    "plt.title('Training and validation accuracy')\n",
    "plt.figure()\n",
    "plt.plot(epochs, loss, 'r', 'Training Loss')\n",
    "plt.plot(epochs, val_loss, 'b', 'Validation Loss')\n",
    "plt.title('Training and validation loss')\n",
    "plt.figure()\n",
    "\n",
    "plt.plot(model1.history['loss'], label='MAE (training data)')\n",
    "plt.title('MAE vs epoch')\n",
    "plt.ylabel('MAE value')\n",
    "plt.xlabel('No. epoch')\n",
    "plt.legend(loc=\"upper left\")\n",
    "plt.show()"
   ]
  },
  {
   "cell_type": "code",
   "execution_count": null,
   "id": "564e0a34",
   "metadata": {},
   "outputs": [],
   "source": []
  }
 ],
 "metadata": {
  "kernelspec": {
   "display_name": "Python 3 (ipykernel)",
   "language": "python",
   "name": "python3"
  },
  "language_info": {
   "codemirror_mode": {
    "name": "ipython",
    "version": 3
   },
   "file_extension": ".py",
   "mimetype": "text/x-python",
   "name": "python",
   "nbconvert_exporter": "python",
   "pygments_lexer": "ipython3",
   "version": "3.9.7"
  }
 },
 "nbformat": 4,
 "nbformat_minor": 5
}
